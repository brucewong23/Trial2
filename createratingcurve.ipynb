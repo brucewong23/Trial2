{
 "cells": [
  {
   "cell_type": "code",
   "execution_count": null,
   "metadata": {},
   "outputs": [],
   "source": [
    "# import pandas, os library and get path\n",
    "import pandas as pd\n",
    "import os \n",
    "os.getcwd()"
   ]
  },
  {
   "cell_type": "code",
   "execution_count": null,
   "metadata": {},
   "outputs": [],
   "source": [
    "# read csv file into dataframe 'data'\n",
    "# minor change here suggesting user to input their own account username\n"
    "data = pd.read_csv('/home/mygeohub/inputusernamehere/class1/eaglecreek.csv')\n",
    "data.head()  # checking data vs csv file for consistency"
   ]
  },
  {
   "cell_type": "code",
   "execution_count": null,
   "metadata": {},
   "outputs": [],
   "source": [
    "timestamp = pd.to_datetime(data.datetime) # convert datetime from format store in csv file to a format for faster processing\n",
    "discharge_mask = data.discharge.notna()  # when plotting imported data, there appears to be some infs and/or NaN value, this is to make a mask\n",
    "# to find any cell in discharge that has appropriate value\n",
    "\n",
    "discharge = data.discharge  # import discharge value for faster processing/plotting\n",
    "discharge_clean = discharge[discharge_mask]    # eliminate NaN values in discharge\n",
    "stage_clean = data.stage[discharge_mask]    # import stage value and eliminate existing or non-existing(NaN) value in the same row where we elimiated the discharge value\n",
    "# since the x and y in later plotting/fitting need to be consistent\n",
    "timestamp_clean = timestamp[discharge_mask]   # timestamp clean up\n",
    "\n",
    "# len(stage_clean) == len(discharge_clean)  # a quick double check if needed\n",
    "\n",
    "# same procedure below to elimiate any leftover NaN value in stage and corresponding rows in the other two column\n",
    "stage_mask = stage_clean.notna()\n",
    "stage_final = stage_clean[stage_mask]\n",
    "discharge_final = discharge_clean[stage_mask]\n",
    "timestamp_final = timestamp_clean[stage_mask]"
   ]
  },
  {
   "cell_type": "code",
   "execution_count": null,
   "metadata": {},
   "outputs": [],
   "source": [
    "#  cleaned data was sorted since the original values resulted in a zag bag fit (at one point, the)\n",
    "data_final = pd.concat([stage_final, discharge_final], axis=1)  \n",
    "data_final = data_final.sort_values(by='stage')   # you can see the effect by commenting this line\n",
    "data_final.head()"
   ]
  },
  {
   "cell_type": "code",
   "execution_count": null,
   "metadata": {},
   "outputs": [],
   "source": [
    "import matplotlib.pyplot as plt  # import matplotlib library\n",
    "plt.plot(timestamp_final, discharge_final)   # hydrography/daily series plot and labeling/titling\n",
    "plt.xlabel('Time (days)')\n",
    "plt.ylabel('Discharge (cfs)')\n",
    "plt.title('Discharge Hyrdrography')\n",
    "plt.savefig('Hyrdrography.png')"
   ]
  },
  {
   "cell_type": "code",
   "execution_count": null,
   "metadata": {},
   "outputs": [],
   "source": [
    "from scipy import optimize    #  import scipy for curve fitting\n",
    "def test_func(x, a, b):   # function required for fitting\n",
    "    return a*x**b\n",
    "params, params_covariance = optimize.curve_fit(test_func, data_final.stage, data_final.discharge, p0=[23, 2.5])  #  optimizing curve fitting, initial values \n",
    "# were [2, 2], changed to the current values in hope of a better fitting, other initial values experimented but dropped\n",
    "print(params)"
   ]
  },
  {
   "cell_type": "code",
   "execution_count": null,
   "metadata": {},
   "outputs": [],
   "source": [
    "plt.scatter(data_final.stage, data_final.discharge, label='Data')    # scatter plot of stage with labels and tittle\n",
    "plt.xlabel('Stage (ft)')\n",
    "plt.ylabel('Discharge (cfs)')\n",
    "plt.title('Stage Discharge Curve for Eagle Creek')\n",
    "\n",
    "plt.plot(data_final.stage, test_func(data_final.stage, params[0], params[1]), label='Fitted Curve', color='red')    #  curve plotted on top of discrete \n",
    "#  value with obtain optimization\n",
    "plt.legend(loc='best')\n",
    "plt.savefig('RatingCurve.png')"
   ]
  }
 ],
 "metadata": {
  "kernelspec": {
   "display_name": "Python 3",
   "language": "python",
   "name": "python3"
  },
  "language_info": {
   "codemirror_mode": {
    "name": "ipython",
    "version": 3
   },
   "file_extension": ".py",
   "mimetype": "text/x-python",
   "name": "python",
   "nbconvert_exporter": "python",
   "pygments_lexer": "ipython3",
   "version": "3.6.5"
  }
 },
 "nbformat": 4,
 "nbformat_minor": 2
}
